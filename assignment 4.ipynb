{
 "cells": [
  {
   "cell_type": "markdown",
   "id": "08d8eb6a",
   "metadata": {},
   "source": [
    "# 1.What exactly is [ ]?"
   ]
  },
  {
   "cell_type": "code",
   "execution_count": 2,
   "id": "6543594d",
   "metadata": {},
   "outputs": [],
   "source": [
    "empty list represented by [] is a list that contains no items"
   ]
  },
  {
   "cell_type": "code",
   "execution_count": 6,
   "id": "0ca18c30",
   "metadata": {},
   "outputs": [
    {
     "name": "stdout",
     "output_type": "stream",
     "text": [
      "<class 'list'>\n",
      "0\n"
     ]
    }
   ],
   "source": [
    "#example\n",
    "a=[] #this is an empty list means they dont have anything inside\n",
    "print(type(a))\n",
    "print(len(a))"
   ]
  },
  {
   "cell_type": "markdown",
   "id": "0d065e46",
   "metadata": {},
   "source": [
    "# 2. In a list of values stored in a variable called spam, how would you assign the value &#39;hello&#39; as the third value? (Assume [2, 4, 6, 8, 10] are in spam.)"
   ]
  },
  {
   "cell_type": "code",
   "execution_count": 10,
   "id": "d1eef868",
   "metadata": {},
   "outputs": [
    {
     "name": "stdout",
     "output_type": "stream",
     "text": [
      "[2, 4, 6, 8, 10]\n",
      "[2, 4, 'hello', 8, 10]\n"
     ]
    }
   ],
   "source": [
    "spam = [2,4,6,8,10]\n",
    "print(spam)\n",
    "spam[2]='hello'\n",
    "print(spam)"
   ]
  },
  {
   "cell_type": "markdown",
   "id": "d465051e",
   "metadata": {},
   "source": [
    "# Let&#39;s pretend the spam includes the list [&#39;a&#39;, &#39;b&#39;, &#39;c&#39;, &#39;d&#39;] for the next three queries."
   ]
  },
  {
   "cell_type": "markdown",
   "id": "5dad4a3f",
   "metadata": {},
   "source": [
    "# 3. What is the value of spam[int(int(&#39;3&#39; * 2) / 11)]?"
   ]
  },
  {
   "cell_type": "code",
   "execution_count": 12,
   "id": "a76ec8b4",
   "metadata": {},
   "outputs": [
    {
     "data": {
      "text/plain": [
       "'d'"
      ]
     },
     "execution_count": 12,
     "metadata": {},
     "output_type": "execute_result"
    }
   ],
   "source": [
    "spam=['a','b','c','d']\n",
    "spam[int(int('3'*2)/11)]\n",
    "#int('3'*2) => 33  ,33/11=3 , spam[3] = 'd'"
   ]
  },
  {
   "cell_type": "markdown",
   "id": "1d77330a",
   "metadata": {},
   "source": [
    "# 4. What is the value of spam[-1]?"
   ]
  },
  {
   "cell_type": "code",
   "execution_count": 15,
   "id": "48c8a762",
   "metadata": {},
   "outputs": [
    {
     "data": {
      "text/plain": [
       "'d'"
      ]
     },
     "execution_count": 15,
     "metadata": {},
     "output_type": "execute_result"
    }
   ],
   "source": [
    "spam[-1]\n",
    "#['a','b','c','d']\n",
    "# no vise [0,1,2,3]\n",
    "# revires no [-4=a,-3=b,-2=c,-1=d]"
   ]
  },
  {
   "cell_type": "markdown",
   "id": "62a6e426",
   "metadata": {},
   "source": [
    "# 5. What is the value of spam[:2]?"
   ]
  },
  {
   "cell_type": "code",
   "execution_count": 17,
   "id": "b160a9ca",
   "metadata": {},
   "outputs": [
    {
     "data": {
      "text/plain": [
       "['a', 'b']"
      ]
     },
     "execution_count": 17,
     "metadata": {},
     "output_type": "execute_result"
    }
   ],
   "source": [
    "spam[:2]\n",
    "#:2 is still 2 nd place\n",
    "# a at 0th place,b is 1st place and 2 and not incude"
   ]
  },
  {
   "cell_type": "markdown",
   "id": "88587c56",
   "metadata": {},
   "source": [
    "# Let&#39;s pretend bacon has the list [3.14, &#39;cat,&#39; 11, &#39;cat,&#39; True] for the next three questions."
   ]
  },
  {
   "cell_type": "code",
   "execution_count": 31,
   "id": "fd80b7df",
   "metadata": {},
   "outputs": [],
   "source": [
    "bacon = [3.14, 'cat', 11, 'cat', True]"
   ]
  },
  {
   "cell_type": "markdown",
   "id": "ae28241b",
   "metadata": {},
   "source": [
    "# 6. What is the value of bacon.index(&#39;cat&#39;)?"
   ]
  },
  {
   "cell_type": "code",
   "execution_count": 32,
   "id": "6b699aa2",
   "metadata": {},
   "outputs": [
    {
     "data": {
      "text/plain": [
       "1"
      ]
     },
     "execution_count": 32,
     "metadata": {},
     "output_type": "execute_result"
    }
   ],
   "source": [
    "bacon.index(\"cat\")\n",
    "# \"cat \" at 1st place index of 'cat' is 1 other 'cat' index is 3 but this didnt come beacuse query get exicuted "
   ]
  },
  {
   "cell_type": "markdown",
   "id": "26d33f02",
   "metadata": {},
   "source": [
    "# 7. How does bacon.append(99) change the look of the list value in bacon?"
   ]
  },
  {
   "cell_type": "code",
   "execution_count": 33,
   "id": "190c9300",
   "metadata": {},
   "outputs": [
    {
     "name": "stdout",
     "output_type": "stream",
     "text": [
      "[3.14, 'cat', 11, 'cat', True, 99]\n"
     ]
    }
   ],
   "source": [
    "bacon.append(99)\n",
    "# append fucation work is add in values is list at last place\n",
    "print(bacon)"
   ]
  },
  {
   "cell_type": "markdown",
   "id": "18dc06b8",
   "metadata": {},
   "source": [
    "# 8. How does bacon.remove(&#39;cat&#39;) change the look of the list in bacon?"
   ]
  },
  {
   "cell_type": "code",
   "execution_count": 34,
   "id": "69af68e2",
   "metadata": {},
   "outputs": [
    {
     "name": "stdout",
     "output_type": "stream",
     "text": [
      "[3.14, 11, 'cat', True, 99]\n"
     ]
    }
   ],
   "source": [
    "bacon.remove('cat')\n",
    "#remove 'cat' from this list\n",
    "print(bacon)"
   ]
  },
  {
   "cell_type": "markdown",
   "id": "6ac9b094",
   "metadata": {},
   "source": [
    "# 9. What are the list concatenation and list replication operators?"
   ]
  },
  {
   "cell_type": "code",
   "execution_count": 36,
   "id": "92891167",
   "metadata": {},
   "outputs": [],
   "source": [
    "operator for list concatenation is +,\n",
    "and operator for replication is *. (same as for strings.)"
   ]
  },
  {
   "cell_type": "code",
   "execution_count": 38,
   "id": "eafcf873",
   "metadata": {},
   "outputs": [
    {
     "name": "stdout",
     "output_type": "stream",
     "text": [
      "['mi', 'kkr', 'csk', 'gt', 'dd', 'ls', 'rcb']\n",
      "['dd', 'ls', 'rcb', 'dd', 'ls', 'rcb']\n"
     ]
    }
   ],
   "source": [
    "# Example\n",
    "l1 = ['mi' , 'kkr' , 'csk' ,'gt']\n",
    "l2 = ['dd','ls','rcb']\n",
    "print(l1 + l2) # List Concatenation\n",
    "print(l2*2) # List Replication"
   ]
  },
  {
   "cell_type": "markdown",
   "id": "c3ec7e9b",
   "metadata": {},
   "source": [
    "# 10. What is difference between the list methods append() and insert()?"
   ]
  },
  {
   "cell_type": "code",
   "execution_count": 40,
   "id": "a4bf132b",
   "metadata": {},
   "outputs": [],
   "source": [
    "append() will add values only to the end of a list, insert() can add them anywhere in the list"
   ]
  },
  {
   "cell_type": "code",
   "execution_count": 41,
   "id": "7fff3f37",
   "metadata": {},
   "outputs": [
    {
     "name": "stdout",
     "output_type": "stream",
     "text": [
      "[1, 2, 3, 4, 5, 100]\n",
      "[1, 2, 3, 'mukesh', 4, 5, 100]\n"
     ]
    }
   ],
   "source": [
    "list = [1,2,3,4,5]\n",
    "list.append(100)\n",
    "print(list)\n",
    "list.insert(3,'mukesh')\n",
    "print(list)"
   ]
  },
  {
   "cell_type": "markdown",
   "id": "dce342f2",
   "metadata": {},
   "source": [
    "# 11. What are the two methods for removing items from a list?"
   ]
  },
  {
   "cell_type": "code",
   "execution_count": null,
   "id": "bd550139",
   "metadata": {},
   "outputs": [],
   "source": [
    " del statement and the remove() method are two ways to remove values from a list"
   ]
  },
  {
   "cell_type": "code",
   "execution_count": 52,
   "id": "6436550e",
   "metadata": {},
   "outputs": [
    {
     "name": "stdout",
     "output_type": "stream",
     "text": [
      "['mi', 'csk']\n"
     ]
    },
    {
     "data": {
      "text/plain": [
       "['mi']"
      ]
     },
     "execution_count": 52,
     "metadata": {},
     "output_type": "execute_result"
    }
   ],
   "source": [
    "print(l1)\n",
    "# del\n",
    "del l1[1]\n",
    "print(l1)"
   ]
  },
  {
   "cell_type": "code",
   "execution_count": 53,
   "id": "947530f6",
   "metadata": {},
   "outputs": [
    {
     "name": "stdout",
     "output_type": "stream",
     "text": [
      "['dd', 'ls', 'rcb']\n"
     ]
    }
   ],
   "source": [
    "print(l2)"
   ]
  },
  {
   "cell_type": "code",
   "execution_count": 55,
   "id": "b851eee1",
   "metadata": {},
   "outputs": [],
   "source": [
    "#remove\n",
    "l2.remove('ls')"
   ]
  },
  {
   "cell_type": "code",
   "execution_count": 56,
   "id": "982270e2",
   "metadata": {},
   "outputs": [
    {
     "name": "stdout",
     "output_type": "stream",
     "text": [
      "['dd', 'rcb']\n"
     ]
    }
   ],
   "source": [
    "print(l2)"
   ]
  },
  {
   "cell_type": "markdown",
   "id": "0d4cd909",
   "metadata": {},
   "source": [
    "# 12. Describe how list values and string values are identical."
   ]
  },
  {
   "cell_type": "code",
   "execution_count": null,
   "id": "3c5f26d0",
   "metadata": {},
   "outputs": [],
   "source": [
    "Below are some reasons how list values and string values are identical:\n",
    "\n",
    "1.Both lists and strings can be passed to len() function\n",
    "2.Have indexes and slices, be used in for loops,\n",
    "3.Can be concatenated or replicated\n",
    "4.Can be used with the in and not in operators."
   ]
  },
  {
   "cell_type": "markdown",
   "id": "d86a08ad",
   "metadata": {},
   "source": [
    "# 13. What&#39;s the difference between tuples and lists?"
   ]
  },
  {
   "cell_type": "code",
   "execution_count": null,
   "id": "89c37390",
   "metadata": {},
   "outputs": [],
   "source": [
    "Lists are Mutable, Indexable and Slicable. \n",
    "they can have values added, removed, or changed. Tuples are Immutable but Indexable and Slicable. \n",
    "the tuple values cannot be changed at all. \n",
    "Also, tuples are represented using parentheses, (), while lists use the square brackets, []."
   ]
  },
  {
   "cell_type": "markdown",
   "id": "35eaa070",
   "metadata": {},
   "source": [
    "# 14. How do you type a tuple value that only contains the integer 42?"
   ]
  },
  {
   "cell_type": "code",
   "execution_count": 60,
   "id": "7f072544",
   "metadata": {},
   "outputs": [
    {
     "data": {
      "text/plain": [
       "tuple"
      ]
     },
     "execution_count": 60,
     "metadata": {},
     "output_type": "execute_result"
    }
   ],
   "source": [
    "t1=(43)\n",
    "t= (43,)\n",
    "type(t1)\n",
    "# this is integer 42\n",
    "type(t)\n",
    "#comm is mandotory for showing tuple if there is 1 value only\n",
    "#this is tupel\n"
   ]
  },
  {
   "cell_type": "markdown",
   "id": "c8c935a7",
   "metadata": {},
   "source": [
    "# 15. How do you get a list value&#39;s tuple form? How do you get a tuple value&#39;s list form?"
   ]
  },
  {
   "cell_type": "code",
   "execution_count": 62,
   "id": "3b869f21",
   "metadata": {},
   "outputs": [],
   "source": [
    "tuple() and list() functions, respectively are used to convert a list to tuple and vice versa"
   ]
  },
  {
   "cell_type": "markdown",
   "id": "2a4b9dbd",
   "metadata": {},
   "source": [
    "# 16. Variables that &quot;contain&quot; list values are not necessarily lists themselves. Instead, what do they contain? "
   ]
  },
  {
   "cell_type": "code",
   "execution_count": null,
   "id": "98ed3efc",
   "metadata": {},
   "outputs": [],
   "source": [
    "They contain references to list values"
   ]
  },
  {
   "cell_type": "markdown",
   "id": "e68331cd",
   "metadata": {},
   "source": [
    "# 17. How do you distinguish between copy.copy() and copy.deepcopy()?"
   ]
  },
  {
   "cell_type": "code",
   "execution_count": null,
   "id": "fbdbb540",
   "metadata": {},
   "outputs": [],
   "source": [
    "the copy.copy() function will do a shallow copy of a list, while the copy.deepcopy() function will do a deep copy of a list \n",
    "that is, only copy.deepcopy() will duplicate any lists inside the list"
   ]
  },
  {
   "cell_type": "code",
   "execution_count": 67,
   "id": "d28f497f",
   "metadata": {},
   "outputs": [],
   "source": [
    "# importing copy module\n",
    "import copy\n",
    "\n",
    "# initializing list 1\n",
    "l1 = [1, 2, [3,5], 4]\n",
    "\n",
    "\n",
    "# using copy for shallow copy\n",
    "l2 = copy.copy(li1)\n",
    "\n",
    "# using deepcopy for deepcopy\n",
    "l3 = copy.deepcopy(li1)"
   ]
  },
  {
   "cell_type": "code",
   "execution_count": 68,
   "id": "654218ad",
   "metadata": {},
   "outputs": [
    {
     "data": {
      "text/plain": [
       "[1, 2, [3, 5], 4]"
      ]
     },
     "execution_count": 68,
     "metadata": {},
     "output_type": "execute_result"
    }
   ],
   "source": [
    "l2"
   ]
  },
  {
   "cell_type": "code",
   "execution_count": 69,
   "id": "ec5eee06",
   "metadata": {},
   "outputs": [
    {
     "data": {
      "text/plain": [
       "[1, 2, [3, 5], 4]"
      ]
     },
     "execution_count": 69,
     "metadata": {},
     "output_type": "execute_result"
    }
   ],
   "source": [
    "l3"
   ]
  },
  {
   "cell_type": "code",
   "execution_count": null,
   "id": "dc93d5ee",
   "metadata": {},
   "outputs": [],
   "source": []
  }
 ],
 "metadata": {
  "kernelspec": {
   "display_name": "Python 3 (ipykernel)",
   "language": "python",
   "name": "python3"
  },
  "language_info": {
   "codemirror_mode": {
    "name": "ipython",
    "version": 3
   },
   "file_extension": ".py",
   "mimetype": "text/x-python",
   "name": "python",
   "nbconvert_exporter": "python",
   "pygments_lexer": "ipython3",
   "version": "3.9.7"
  }
 },
 "nbformat": 4,
 "nbformat_minor": 5
}
