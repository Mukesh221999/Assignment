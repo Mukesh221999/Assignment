{
 "cells": [
  {
   "cell_type": "markdown",
   "id": "db3c1301",
   "metadata": {},
   "source": [
    "# 1. What is the name of the feature responsible for generating Regex objects?"
   ]
  },
  {
   "cell_type": "code",
   "execution_count": null,
   "id": "fe04b6b4",
   "metadata": {},
   "outputs": [],
   "source": [
    "re.compile() is the feature responsible for generation of Regex objects. \n",
    "We can compile a regular expression into a regex object to look for occurrences of the same pattern inside various target strings without rewriting it."
   ]
  },
  {
   "cell_type": "code",
   "execution_count": 4,
   "id": "90f5b453",
   "metadata": {},
   "outputs": [
    {
     "name": "stdout",
     "output_type": "stream",
     "text": [
      "<class 're.Pattern'>\n",
      "re.compile('mukes_kamaliya_r')\n"
     ]
    }
   ],
   "source": [
    "import re\n",
    "x = re.compile(\"mukes_kamaliya_r\")\n",
    "print(type(x))\n",
    "print(x)"
   ]
  },
  {
   "cell_type": "markdown",
   "id": "5662c5b8",
   "metadata": {},
   "source": [
    "# 2. Why do raw strings often appear in Regex objects?"
   ]
  },
  {
   "cell_type": "markdown",
   "id": "3b1f54f6",
   "metadata": {},
   "source": [
    "Regular expressions use the backslash character ('\\') to indicate special forms (Metacharacters) or to allow special characters (speical sequences) to be used without invoking their special meaning. This collides with Python’s usage of the same character for the same purpose in string literals. Hence, Raw strings are used (e.g. r\"\\n\") so that backslashes do not have to be escaped."
   ]
  },
  {
   "cell_type": "markdown",
   "id": "afb1df9d",
   "metadata": {},
   "source": [
    "# 3. What is the return value of the search() method?"
   ]
  },
  {
   "cell_type": "markdown",
   "id": "be0a2efc",
   "metadata": {},
   "source": [
    "The return value of re.search(pattern,string) method is a match object if the pattern is observed in the string else it returns a None"
   ]
  },
  {
   "cell_type": "code",
   "execution_count": 3,
   "id": "dd3284d8",
   "metadata": {},
   "outputs": [
    {
     "name": "stdout",
     "output_type": "stream",
     "text": [
      "Output: <re.Match object; span=(8, 9), match='I'>\n",
      "Output: None\n"
     ]
    }
   ],
   "source": [
    "import re\n",
    "match = re.search('i','Awesome Ineuron Full Stack Data Science Program', flags=re.IGNORECASE)\n",
    "print('Output:',match)\n",
    "match = re.search('Z','Awesome Ineuron Full Stack Data Science Program', flags=re.IGNORECASE)\n",
    "print('Output:',match)"
   ]
  },
  {
   "cell_type": "markdown",
   "id": "f364445a",
   "metadata": {},
   "source": [
    "# 4. From a Match item, how do you get the actual strings that match the pattern?"
   ]
  },
  {
   "cell_type": "code",
   "execution_count": null,
   "id": "d6726d3d",
   "metadata": {},
   "outputs": [],
   "source": [
    "the group() methods returns actual strings that match the pattern"
   ]
  },
  {
   "cell_type": "markdown",
   "id": "f820f4af",
   "metadata": {},
   "source": [
    "# 5. In the regex which created from the r&#39;(\\d\\d\\d)-(\\d\\d\\d-\\d\\d\\d\\d)&#39;, what does group zero cover? Group 2? Group 1?"
   ]
  },
  {
   "cell_type": "code",
   "execution_count": null,
   "id": "689d53c0",
   "metadata": {},
   "outputs": [],
   "source": [
    "Group 0 is the entire match, group 1 covers the first set of parentheses, and group 2 covers the second set of parentheses"
   ]
  },
  {
   "cell_type": "code",
   "execution_count": 5,
   "id": "03d949f3",
   "metadata": {},
   "outputs": [
    {
     "name": "stdout",
     "output_type": "stream",
     "text": [
      "('123', '456-7891')\n",
      "123-456-7891\n",
      "123\n",
      "456-7891\n"
     ]
    }
   ],
   "source": [
    "# Example Program\n",
    "import re\n",
    "phoneNumRegex = re.compile(r'(\\d\\d\\d)-(\\d\\d\\d-\\d\\d\\d\\d)')\n",
    "mo = phoneNumRegex.search('My number is 123-456-7891.')\n",
    "print(mo.groups()) # Prints all groups in a tuple format\n",
    "print(mo.group()) # Always returns the fully matched string \n",
    "print(mo.group(1)) # Returns the first group\n",
    "print(mo.group(2)) # Returns the second group"
   ]
  },
  {
   "cell_type": "markdown",
   "id": "b2dec67c",
   "metadata": {},
   "source": [
    "# 6. In standard expression syntax, parentheses and intervals have distinct meanings. How can you tell a regex that you want it to fit real parentheses and periods?"
   ]
  },
  {
   "cell_type": "code",
   "execution_count": null,
   "id": "67f3f0d7",
   "metadata": {},
   "outputs": [],
   "source": [
    "The \\. \\( and \\) escape characters in the raw string passed to re.compile() will match actual parenthesis characters."
   ]
  },
  {
   "cell_type": "markdown",
   "id": "62125140",
   "metadata": {},
   "source": [
    "# 7. The findall() method returns a string list or a list of string tuples. What causes it to return one of the two options?"
   ]
  },
  {
   "cell_type": "code",
   "execution_count": null,
   "id": "05b483ca",
   "metadata": {},
   "outputs": [],
   "source": [
    "if the regex pattern has no groups, a list of strings matched is returned. \n",
    "if the regex pattern has groups, a list of tuple of strings is returned."
   ]
  },
  {
   "cell_type": "markdown",
   "id": "780ced77",
   "metadata": {},
   "source": [
    "# 8. In standard expressions, what does the | character mean?"
   ]
  },
  {
   "cell_type": "code",
   "execution_count": null,
   "id": "eaafbc25",
   "metadata": {},
   "outputs": [],
   "source": [
    "In Standard Expressions | means OR operator."
   ]
  },
  {
   "cell_type": "markdown",
   "id": "f43ebb3e",
   "metadata": {},
   "source": [
    "# 9. In regular expressions, what does the ? character stand for?"
   ]
  },
  {
   "cell_type": "code",
   "execution_count": 7,
   "id": "276d8d54",
   "metadata": {},
   "outputs": [],
   "source": [
    "in regular expressions ? characters represents zero or one match of the preceeding group"
   ]
  },
  {
   "cell_type": "markdown",
   "id": "56a277a7",
   "metadata": {},
   "source": [
    "# 10.In regular expressions, what is the difference between the + and * characters?"
   ]
  },
  {
   "cell_type": "code",
   "execution_count": 9,
   "id": "f28b4952",
   "metadata": {},
   "outputs": [],
   "source": [
    "* Represents Zero ore more occurances of the preceeding group or + represents one or more occurances of the preceeding group"
   ]
  },
  {
   "cell_type": "markdown",
   "id": "dbb162f7",
   "metadata": {},
   "source": [
    "# 11. What is the difference between {4} and {4,5} in regular expression?"
   ]
  },
  {
   "cell_type": "code",
   "execution_count": null,
   "id": "5d8ced87",
   "metadata": {},
   "outputs": [],
   "source": [
    "{4} means that its preceeding group should repeat 4 times.\n",
    "where as {4,5} means that its preceeding group should repeat mininum 4 times and maximum 5 times inclusively"
   ]
  },
  {
   "cell_type": "markdown",
   "id": "289b11d4",
   "metadata": {},
   "source": [
    "# 12. What do you mean by the \\d, \\w, and \\s shorthand character classes signify in regular expressions?"
   ]
  },
  {
   "cell_type": "code",
   "execution_count": null,
   "id": "0dea141d",
   "metadata": {},
   "outputs": [],
   "source": [
    "\\w – Matches a word character equivalent to [a-zA-Z0-9_]\n",
    "\\d – Matches digit character equivalent to [0-9]\n",
    "\\s – Matches whitespace character (space, tab, newline, etc.)"
   ]
  },
  {
   "cell_type": "markdown",
   "id": "b2496221",
   "metadata": {},
   "source": [
    "# 13. What do means by \\D, \\W, and \\S shorthand character classes signify in regular expressions?"
   ]
  },
  {
   "cell_type": "code",
   "execution_count": null,
   "id": "1ee5c9d2",
   "metadata": {},
   "outputs": [],
   "source": [
    "\\W – Matches any non-alphanumeric character equivalent to [^a-zA-Z0-9_]\n",
    "\\D – Matches any non-digit character, this is equivalent to the set class [^0-9]\n",
    "\\S – Matches any non-whitespace character"
   ]
  },
  {
   "cell_type": "markdown",
   "id": "597d34bd",
   "metadata": {},
   "source": [
    "# 14. What is the difference between .*? and .*?"
   ]
  },
  {
   "cell_type": "code",
   "execution_count": null,
   "id": "262d25ee",
   "metadata": {},
   "outputs": [],
   "source": [
    ".* is a greedy mode, which returns the longest string that meets the condition. \n",
    "whereas .*? is a non greedy mode which returns the shortest string that meets the condition."
   ]
  },
  {
   "cell_type": "markdown",
   "id": "715417dd",
   "metadata": {},
   "source": [
    "# 15. What is the syntax for matching both numbers and lowercase letters with a character class?"
   ]
  },
  {
   "cell_type": "code",
   "execution_count": null,
   "id": "8886796d",
   "metadata": {},
   "outputs": [],
   "source": [
    " Synatax is Either [a-z0-9] or [0-9a-z]"
   ]
  },
  {
   "cell_type": "markdown",
   "id": "dd89dd17",
   "metadata": {},
   "source": [
    "# 16. What is the procedure for making a normal expression in regax case insensitive?"
   ]
  },
  {
   "cell_type": "code",
   "execution_count": null,
   "id": "f0314721",
   "metadata": {},
   "outputs": [],
   "source": [
    "We can pass re.IGNORECASE as a flag to make a normal expression case insensitive"
   ]
  },
  {
   "cell_type": "markdown",
   "id": "b1bb7a58",
   "metadata": {},
   "source": [
    "# 17. What does the . character normally match? What does it match if re.DOTALL is passed as 2nd argument in re.compile()?"
   ]
  },
  {
   "cell_type": "code",
   "execution_count": null,
   "id": "d10ac0d2",
   "metadata": {},
   "outputs": [],
   "source": [
    "Dot . character matches everything in input except newline character .\n",
    "By passing re.DOTALL as a flag to re.compile(), you can make the dot character match all characters, including the newline character."
   ]
  },
  {
   "cell_type": "markdown",
   "id": "436f445c",
   "metadata": {},
   "source": [
    "# 18. If numReg = re.compile(r'\\d+'), what will numRegex.sub('X', '11 drummers, 10 pipers, five rings, 4 hen') return?"
   ]
  },
  {
   "cell_type": "code",
   "execution_count": null,
   "id": "6593dd5c",
   "metadata": {},
   "outputs": [],
   "source": [
    "The Ouput will be 'X drummers, X pipers, five rings, X hen'"
   ]
  },
  {
   "cell_type": "code",
   "execution_count": 15,
   "id": "56b795c8",
   "metadata": {},
   "outputs": [],
   "source": [
    "import re\n",
    "numReg = re.compile(r'\\d+')"
   ]
  },
  {
   "cell_type": "code",
   "execution_count": 16,
   "id": "1872658a",
   "metadata": {},
   "outputs": [
    {
     "data": {
      "text/plain": [
       "'X drummers, X pipers, five rings, X hen'"
      ]
     },
     "execution_count": 16,
     "metadata": {},
     "output_type": "execute_result"
    }
   ],
   "source": [
    "numReg.sub('X', '11 drummers, 10 pipers, five rings, 4 hen')"
   ]
  },
  {
   "cell_type": "markdown",
   "id": "1d6c7685",
   "metadata": {},
   "source": [
    "# 19. What does passing re.VERBOSE as the 2nd argument to re.compile() allow to do?"
   ]
  },
  {
   "cell_type": "code",
   "execution_count": null,
   "id": "a9bac5bc",
   "metadata": {},
   "outputs": [],
   "source": [
    "re.VERBOSE will allow to add whitespace and comments to string passed to re.compile()."
   ]
  },
  {
   "cell_type": "code",
   "execution_count": 22,
   "id": "6afe96ae",
   "metadata": {},
   "outputs": [],
   "source": [
    "# Using VERBOSE\n",
    "regex_email1 = re.compile(r\"\"\"\n",
    "                            ^([a-z0-9_\\.-]+)              # local Part like username\n",
    "                            @                             # single @ sign \n",
    "                            ([0-9a-z\\.-]+)                # Domain name like google\n",
    "                            \\.                            # single Dot .\n",
    "                            ([a-z]{2,6})$                 # Top level Domain  like com/in/org\n",
    "                         \"\"\",re.VERBOSE | re.IGNORECASE) "
   ]
  },
  {
   "cell_type": "markdown",
   "id": "733cbb83",
   "metadata": {},
   "source": [
    "# 20. How would you write a regex that match a number with comma for every three digits? It must match the given following:"
   ]
  },
  {
   "cell_type": "markdown",
   "id": "86afdb1a",
   "metadata": {},
   "source": [
    "# How would you write a regex that match a number with comma for every three digits? It must\n",
    "# match the given following:\n",
    "# &#39;42&#39;\n",
    "# &#39;1,234&#39;\n",
    "# &#39;6,368,745&#39;\n",
    "# but not the following:\n",
    "# &#39;12,34,567&#39; (which has only two digits between the commas)\n",
    "# &#39;1234&#39; (which lacks commas)"
   ]
  },
  {
   "cell_type": "code",
   "execution_count": 23,
   "id": "fbef5a1c",
   "metadata": {},
   "outputs": [
    {
     "name": "stdout",
     "output_type": "stream",
     "text": [
      "Output: 42 -> <re.Match object; span=(0, 2), match='42'>\n",
      "Output: 1,234 -> <re.Match object; span=(0, 5), match='1,234'>\n",
      "Output: 6,368,745 -> <re.Match object; span=(0, 9), match='6,368,745'>\n",
      "Output: 12,34,567 -> None\n",
      "Output: 1234 -> None\n"
     ]
    }
   ],
   "source": [
    "import re\n",
    "pattern = r'^\\d{1,3}(,\\d{3})*$'\n",
    "pagex = re.compile(pattern)\n",
    "for ele in ['42','1,234', '6,368,745','12,34,567','1234']:\n",
    "    print('Output:',ele, '->', pagex.search(ele))"
   ]
  },
  {
   "cell_type": "markdown",
   "id": "d884672e",
   "metadata": {},
   "source": [
    "# 21. How would you write a regex that matches the full name of someone whose last name is\n",
    "# Watanabe? You can assume that the first name that comes before it will always be one word that\n",
    "# begins with a capital letter. The regex must match the following:\n",
    "# &#39;Haruto Watanabe&#39;\n",
    "# &#39;Alice Watanabe&#39;\n",
    "# &#39;RoboCop Watanabe&#39;\n",
    "# but not the following:\n",
    "# &#39;haruto Watanabe&#39; (where the first name is not capitalized)\n",
    "# &#39;Mr. Watanabe&#39; (where the preceding word has a nonletter character)\n",
    "# &#39;Watanabe&#39; (which has no first name)\n",
    "# &#39;Haruto watanabe&#39; (where Watanabe is not capitalized)"
   ]
  },
  {
   "cell_type": "markdown",
   "id": "755ce922",
   "metadata": {},
   "source": [
    "pattern = r'[A-Z]{1}[a-z]*\\sWatanabe'"
   ]
  },
  {
   "cell_type": "code",
   "execution_count": 24,
   "id": "cb1c9aac",
   "metadata": {},
   "outputs": [
    {
     "name": "stdout",
     "output_type": "stream",
     "text": [
      "Output:  Haruto Watanabe -> <re.Match object; span=(0, 15), match='Haruto Watanabe'>\n",
      "Output:  Alice Watanabe -> <re.Match object; span=(0, 14), match='Alice Watanabe'>\n",
      "Output:  RoboCop Watanabe -> <re.Match object; span=(4, 16), match='Cop Watanabe'>\n",
      "Output:  haruto Watanabe -> None\n",
      "Output:  Mr. Watanabe -> None\n",
      "Output:  Watanabe -> None\n",
      "Output:  Haruto watanabe -> None\n"
     ]
    }
   ],
   "source": [
    "import re\n",
    "pattern = r'[A-Z]{1}[a-z]*\\sWatanabe'\n",
    "namex = re.compile(pattern)\n",
    "for name in ['Haruto Watanabe','Alice Watanabe','RoboCop Watanabe','haruto Watanabe','Mr. Watanabe','Watanabe','Haruto watanabe']:\n",
    "    print('Output: ',name,'->',namex.search(name))"
   ]
  },
  {
   "cell_type": "markdown",
   "id": "74a86de4",
   "metadata": {},
   "source": [
    "# 22. How would you write a regex that matches a sentence where the first word is either Alice, Bob,\n",
    "# or Carol; the second word is either eats, pets, or throws; the third word is apples, cats, or baseballs;\n",
    "# and the sentence ends with a period? This regex should be case-insensitive. It must match the following:\n",
    "# &#39;Alice eats apples.&#39;\n",
    "# &#39;Bob pets cats.&#39;\n",
    "# &#39;Carol throws baseballs.&#39;\n",
    "# &#39;Alice throws Apples.&#39;\n",
    "# &#39;BOB EATS CATS.&#39;\n",
    "# but not the following:\n",
    "# &#39;RoboCop eats apples.&#39;\n",
    "# &#39;ALICE THROWS FOOTBALLS.&#39;\n",
    "# &#39;Carol eats 7 cats.&#39;"
   ]
  },
  {
   "cell_type": "code",
   "execution_count": null,
   "id": "703b9eea",
   "metadata": {},
   "outputs": [],
   "source": [
    "pattern=r'(Alice|Bob|Carol)\\s(eats|pets|throws)\\s(apples|cats|baseballs)\\.'"
   ]
  },
  {
   "cell_type": "code",
   "execution_count": 26,
   "id": "9a97eac7",
   "metadata": {},
   "outputs": [
    {
     "name": "stdout",
     "output_type": "stream",
     "text": [
      "Output:  Alice eats apples. -> <re.Match object; span=(0, 18), match='Alice eats apples.'>\n",
      "Output:  Bob pets cats. -> <re.Match object; span=(0, 14), match='Bob pets cats.'>\n",
      "Output:  Carol throws baseballs. -> <re.Match object; span=(0, 23), match='Carol throws baseballs.'>\n",
      "Output:  Alice throws Apples. -> <re.Match object; span=(0, 20), match='Alice throws Apples.'>\n",
      "Output:  BOB EATS CATS. -> <re.Match object; span=(0, 14), match='BOB EATS CATS.'>\n",
      "Output:  RoboCop eats apples. -> None\n",
      "Output:  ALICE THROWS FOOTBALLS. -> None\n",
      "Output:  Carol eats 7 cats. -> None\n"
     ]
    }
   ],
   "source": [
    "import re\n",
    "pattern = r'(Alice|Bob|Carol)\\s(eats|pets|throws)\\s(apples|cats|baseballs)\\.'\n",
    "casex = re.compile(pattern,re.IGNORECASE)\n",
    "for ele in ['Alice eats apples.','Bob pets cats.','Carol throws baseballs.','Alice throws Apples.','BOB EATS CATS.','RoboCop eats apples.'\n",
    ",'ALICE THROWS FOOTBALLS.','Carol eats 7 cats.']:\n",
    "    print('Output: ',ele,'->',casex.search(ele))"
   ]
  },
  {
   "cell_type": "code",
   "execution_count": null,
   "id": "c21ed0fd",
   "metadata": {},
   "outputs": [],
   "source": []
  }
 ],
 "metadata": {
  "kernelspec": {
   "display_name": "Python 3 (ipykernel)",
   "language": "python",
   "name": "python3"
  },
  "language_info": {
   "codemirror_mode": {
    "name": "ipython",
    "version": 3
   },
   "file_extension": ".py",
   "mimetype": "text/x-python",
   "name": "python",
   "nbconvert_exporter": "python",
   "pygments_lexer": "ipython3",
   "version": "3.9.7"
  }
 },
 "nbformat": 4,
 "nbformat_minor": 5
}
