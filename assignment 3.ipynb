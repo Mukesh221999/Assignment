{
 "cells": [
  {
   "cell_type": "markdown",
   "id": "dc9d08f8",
   "metadata": {},
   "source": [
    "# 1. Why are functions advantageous to have in your programs?"
   ]
  },
  {
   "cell_type": "markdown",
   "id": "d6c2e0a8",
   "metadata": {},
   "source": [
    "Functions are used so that we do not have to write repeated codes which returns same results\n",
    "in our project it makes our program more efficient by avoiding duplicate codes"
   ]
  },
  {
   "cell_type": "markdown",
   "id": "b68fe916",
   "metadata": {},
   "source": [
    "# 2. When does the code in a function run: when it specified or when it called?"
   ]
  },
  {
   "cell_type": "code",
   "execution_count": null,
   "id": "6ec6c9b9",
   "metadata": {},
   "outputs": [],
   "source": [
    "a function will execute when it is called \n",
    "and give you apropreat answer "
   ]
  },
  {
   "cell_type": "markdown",
   "id": "0bb7e247",
   "metadata": {},
   "source": [
    "# 3. What statement creates a function?"
   ]
  },
  {
   "cell_type": "code",
   "execution_count": null,
   "id": "97d7d2c6",
   "metadata": {},
   "outputs": [],
   "source": [
    "To create a function you have to start with def keyword.\n",
    "syntex - def function_name() :\n",
    "            <body of function>\n",
    "            return"
   ]
  },
  {
   "cell_type": "markdown",
   "id": "35647068",
   "metadata": {},
   "source": [
    "# 4. What is the difference between a function and a function call?"
   ]
  },
  {
   "cell_type": "code",
   "execution_count": null,
   "id": "44199d06",
   "metadata": {},
   "outputs": [],
   "source": [
    "a function is creat with code to exicute fuction has code inside it \n",
    "and when you called this fuction for exticution at time you have to pass value"
   ]
  },
  {
   "cell_type": "code",
   "execution_count": 3,
   "id": "34af6290",
   "metadata": {},
   "outputs": [],
   "source": [
    "def sum1(a):    # this is the fuction \n",
    "    return a+a"
   ]
  },
  {
   "cell_type": "code",
   "execution_count": 4,
   "id": "df8cfa0c",
   "metadata": {},
   "outputs": [
    {
     "data": {
      "text/plain": [
       "20"
      ]
     },
     "execution_count": 4,
     "metadata": {},
     "output_type": "execute_result"
    }
   ],
   "source": [
    " sum1(10) # this is fuction called"
   ]
  },
  {
   "cell_type": "markdown",
   "id": "a0cd12bc",
   "metadata": {},
   "source": [
    "# 5. How many global scopes are there in a Python program? How many local scopes?"
   ]
  },
  {
   "cell_type": "code",
   "execution_count": null,
   "id": "8d579d81",
   "metadata": {},
   "outputs": [],
   "source": [
    "There is one global scope, and a local scope is created whenever a function is called.\n",
    "A variable created inside a function belongs to the local scope of that function, \n",
    "and can only be used inside that function whereas A variable created in the main \n",
    "body of the Python code is a global variable and belongs to the global scope.\n"
   ]
  },
  {
   "cell_type": "code",
   "execution_count": 1,
   "id": "a9e1679d",
   "metadata": {},
   "outputs": [],
   "source": [
    "# global scopes \n",
    "x = 200 \n",
    "def my_fun():\n",
    "    return x"
   ]
  },
  {
   "cell_type": "code",
   "execution_count": 2,
   "id": "ab09e6ce",
   "metadata": {},
   "outputs": [
    {
     "data": {
      "text/plain": [
       "200"
      ]
     },
     "execution_count": 2,
     "metadata": {},
     "output_type": "execute_result"
    }
   ],
   "source": [
    "my_fun()\n",
    "#if try to call x then you get 200 "
   ]
  },
  {
   "cell_type": "code",
   "execution_count": 7,
   "id": "6ba867c0",
   "metadata": {},
   "outputs": [],
   "source": [
    "# local scope\n",
    "def my_fun1():\n",
    "    y=200\n",
    "    return y"
   ]
  },
  {
   "cell_type": "code",
   "execution_count": 10,
   "id": "8aa01715",
   "metadata": {},
   "outputs": [
    {
     "data": {
      "text/plain": [
       "200"
      ]
     },
     "execution_count": 10,
     "metadata": {},
     "output_type": "execute_result"
    }
   ],
   "source": [
    "my_fun1()\n",
    "# if you try to call y then you get error"
   ]
  },
  {
   "cell_type": "markdown",
   "id": "fb4310ad",
   "metadata": {},
   "source": [
    "# 6. What happens to variables in a local scope when the function call returns?"
   ]
  },
  {
   "cell_type": "code",
   "execution_count": null,
   "id": "bbc19815",
   "metadata": {},
   "outputs": [],
   "source": [
    "When a function returns the local scope is destroyed, and all the variables in it are forgotten. \n",
    "a local variable becomes undefined after the function call completes"
   ]
  },
  {
   "cell_type": "markdown",
   "id": "5846535a",
   "metadata": {},
   "source": [
    "# 7. What is the concept of a return value? Is it possible to have a return value in an expression?"
   ]
  },
  {
   "cell_type": "code",
   "execution_count": null,
   "id": "7d1afda6",
   "metadata": {},
   "outputs": [],
   "source": [
    "The Python return statement is a key component of functions and methods. \n",
    "We can use the return statement to make functions send Python objects back to the caller code. \n",
    "These objects are known as the function’s return value. \n",
    "A return value is the value that a function call evaluates to. \n",
    "Like any value, a return value can be used as part of an expression."
   ]
  },
  {
   "cell_type": "markdown",
   "id": "2496d557",
   "metadata": {},
   "source": [
    "# 8. If a function does not have a return statement, what is the return value of a call to that function?"
   ]
  },
  {
   "cell_type": "code",
   "execution_count": null,
   "id": "0ccd4fd0",
   "metadata": {},
   "outputs": [],
   "source": [
    " if there is no return statement for a function, its return value is None. \n",
    "the function always returns None if explicit return is not written."
   ]
  },
  {
   "cell_type": "markdown",
   "id": "7092d7cb",
   "metadata": {},
   "source": [
    "# 9. How do you make a function variable refer to the global variable?"
   ]
  },
  {
   "cell_type": "code",
   "execution_count": null,
   "id": "26cb9c0d",
   "metadata": {},
   "outputs": [],
   "source": [
    "if you want to refer to a global variable in a function,\n",
    "you can use the global keyword to declare which variables are global."
   ]
  },
  {
   "cell_type": "markdown",
   "id": "b3e1011c",
   "metadata": {},
   "source": [
    "# 10. What is the data type of None?"
   ]
  },
  {
   "cell_type": "code",
   "execution_count": 2,
   "id": "bc7516eb",
   "metadata": {},
   "outputs": [],
   "source": [
    "data type of none is nonetype"
   ]
  },
  {
   "cell_type": "markdown",
   "id": "6a4a561c",
   "metadata": {},
   "source": [
    "# 11. What does the sentence import areallyourpetsnamederic do?"
   ]
  },
  {
   "cell_type": "code",
   "execution_count": null,
   "id": "d6804cdc",
   "metadata": {},
   "outputs": [],
   "source": [
    "import sentence importing the modeul name areallyourpetsnamedeic"
   ]
  },
  {
   "cell_type": "markdown",
   "id": "8a997f66",
   "metadata": {},
   "source": [
    "# 12. If you had a bacon() feature in a spam module, what would you call it after importing spam?"
   ]
  },
  {
   "cell_type": "code",
   "execution_count": null,
   "id": "b3862490",
   "metadata": {},
   "outputs": [],
   "source": [
    "spam.bacon()"
   ]
  },
  {
   "cell_type": "markdown",
   "id": "1645b509",
   "metadata": {},
   "source": [
    "# 13. What can you do to save a programme from crashing if it encounters an error?"
   ]
  },
  {
   "cell_type": "code",
   "execution_count": null,
   "id": "68b48ec5",
   "metadata": {},
   "outputs": [],
   "source": [
    "We can place the line of code that might cause an error in a try clause and use except block to handle the error "
   ]
  },
  {
   "cell_type": "code",
   "execution_count": 7,
   "id": "aea469f7",
   "metadata": {},
   "outputs": [
    {
     "name": "stdout",
     "output_type": "stream",
     "text": [
      "error\n"
     ]
    }
   ],
   "source": [
    "#example\n",
    "try:\n",
    "    a=1/0\n",
    "    print(a)\n",
    "except:\n",
    "    print(\"error\")\n"
   ]
  },
  {
   "cell_type": "markdown",
   "id": "1cc6a59d",
   "metadata": {},
   "source": [
    "\n",
    "# 14. What is the purpose of the try clause? What is the purpose of the except clause? "
   ]
  },
  {
   "cell_type": "code",
   "execution_count": null,
   "id": "92e30cb6",
   "metadata": {},
   "outputs": [],
   "source": [
    "the code that could potentially cause an error goes in the try clause. \n",
    "the code that executes if an error happens goes in the except clause"
   ]
  },
  {
   "cell_type": "code",
   "execution_count": 9,
   "id": "86fb580e",
   "metadata": {},
   "outputs": [
    {
     "name": "stdout",
     "output_type": "stream",
     "text": [
      "change the value of y\n"
     ]
    }
   ],
   "source": [
    "x = 1\n",
    "y=0\n",
    "try:\n",
    "  print(x/y)\n",
    "except:\n",
    "  print(\"change the value of y\")"
   ]
  },
  {
   "cell_type": "code",
   "execution_count": null,
   "id": "2a717245",
   "metadata": {},
   "outputs": [],
   "source": []
  }
 ],
 "metadata": {
  "kernelspec": {
   "display_name": "Python 3 (ipykernel)",
   "language": "python",
   "name": "python3"
  },
  "language_info": {
   "codemirror_mode": {
    "name": "ipython",
    "version": 3
   },
   "file_extension": ".py",
   "mimetype": "text/x-python",
   "name": "python",
   "nbconvert_exporter": "python",
   "pygments_lexer": "ipython3",
   "version": "3.9.7"
  }
 },
 "nbformat": 4,
 "nbformat_minor": 5
}
