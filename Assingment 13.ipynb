{
 "cells": [
  {
   "cell_type": "markdown",
   "id": "c70f72ee",
   "metadata": {},
   "source": [
    "# 1. What advantages do Excel spreadsheets have over CSV spreadsheets?\n"
   ]
  },
  {
   "cell_type": "code",
   "execution_count": null,
   "id": "a7df8a23",
   "metadata": {},
   "outputs": [],
   "source": [
    "The Advantages of Excel over CSV are:\n",
    "\n",
    "1.Excel (XLS and XLSX) file formats are better for storing and analysing complex data.\n",
    "2.An Excel not only stores data but can also do operations on the data using macros, formulas etc\n",
    "3.CSV files are plain-text files, Does not contain formatting, formulas, macros, etc. It is also known as flat files"
   ]
  },
  {
   "cell_type": "markdown",
   "id": "507eed0b",
   "metadata": {},
   "source": [
    "# 2.What do you pass to csv.reader() and csv.writer() to create reader and writer objects?\n"
   ]
  },
  {
   "cell_type": "code",
   "execution_count": 5,
   "id": "27893064",
   "metadata": {},
   "outputs": [
    {
     "name": "stdout",
     "output_type": "stream",
     "text": [
      "['Name', 'Branch', 'Year', 'CGPA']\n",
      "[]\n",
      "['Mukesh', 'COE', '2', '9.0']\n",
      "[]\n",
      "['Lol', 'COE', '2', '9.1']\n",
      "[]\n",
      "['rexce', 'IT', '2', '9.3']\n",
      "[]\n"
     ]
    }
   ],
   "source": [
    "import csv\n",
    "with open('university_records.csv','r') as file:\n",
    "    csv_file = csv.reader(file,delimiter=',')\n",
    "    for a in csv_file:\n",
    "        print(a)"
   ]
  },
  {
   "cell_type": "markdown",
   "id": "9dbf4245",
   "metadata": {},
   "source": [
    "# 3. What modes do File objects for reader and writer objects need to be opened in?\n"
   ]
  },
  {
   "cell_type": "markdown",
   "id": "2843dff5",
   "metadata": {},
   "source": [
    "For csv.reader(iterable_file_object), the file objects needed to be opened in read mode mode='r' Whereas for csv.writer(iterable_file_object) the file objects needed to be opened in write mode mode='w'"
   ]
  },
  {
   "cell_type": "markdown",
   "id": "4d54ebc3",
   "metadata": {},
   "source": [
    "# 4. What method takes a list argument and writes it to a CSV file?\n"
   ]
  },
  {
   "cell_type": "code",
   "execution_count": null,
   "id": "a15c9c4c",
   "metadata": {},
   "outputs": [],
   "source": [
    "csv.writer class provides two methods for writing to CSV. \n",
    "They are writerow() and writerows(). writerow() method writes a single row at a time.\n",
    "Whereas writerows() method is used to write multiple rows at a time."
   ]
  },
  {
   "cell_type": "code",
   "execution_count": 3,
   "id": "66b337e4",
   "metadata": {},
   "outputs": [],
   "source": [
    "import csv      \n",
    "fields = ['Name', 'Branch', 'Year', 'CGPA'] #column names \n",
    "rows = [ \n",
    "            ['Mukesh', 'COE', '2', '9.0'],  # data rows of csv file \n",
    "            ['Lol', 'COE', '2', '9.1'], \n",
    "            ['rexce', 'IT', '2', '9.3']\n",
    "       ] \n",
    "with open(\"university_records.csv\", 'w') as csvfile: \n",
    "    csvwriter = csv.writer(csvfile) # creating a csv writer object \n",
    "    csvwriter.writerow(fields) # writing the fields \n",
    "    csvwriter.writerows(rows) # writing the data rows "
   ]
  },
  {
   "cell_type": "markdown",
   "id": "3eca5c54",
   "metadata": {},
   "source": [
    "# 5. What do the keyword arguments delimiter and line terminator do?\n"
   ]
  },
  {
   "cell_type": "code",
   "execution_count": null,
   "id": "15b2d4a2",
   "metadata": {},
   "outputs": [],
   "source": [
    "Lets take the example of a csv file:\n",
    "First Name, Last Name, Age\n",
    "Mukesh, kamaliy, 23\n",
    "rakesh,gogari , 22\n",
    "Here ',' is Delimiter. We can use any Character as per our needs if required. \n",
    "Similarly Line Terminator comes at end of line by default it is newline and can be changed accourding to Requirement."
   ]
  },
  {
   "cell_type": "markdown",
   "id": "dc7dcdae",
   "metadata": {},
   "source": [
    "# 6. What function takes a string of JSON data and returns a Python data structure?\n"
   ]
  },
  {
   "cell_type": "code",
   "execution_count": null,
   "id": "653333a0",
   "metadata": {},
   "outputs": [],
   "source": [
    "loads() method takes a string of JSON data and returns a Python data structure"
   ]
  },
  {
   "cell_type": "code",
   "execution_count": 7,
   "id": "0891d4b7",
   "metadata": {},
   "outputs": [
    {
     "name": "stdout",
     "output_type": "stream",
     "text": [
      "{\n",
      "    \"Name\": \"Mukesh kamaliya\",\n",
      "    \"Qualification\": \"MSC in data science\",\n",
      "    \"Stream\": \"Math & Data Science\"\n",
      "}\n",
      "{'Name': 'Mukesh kamaliya', 'Qualification': 'MSC in data science', 'Stream': 'Math & Data Science'}\n",
      "Type of my_details is <class 'dict'>\n"
     ]
    }
   ],
   "source": [
    "# Example of json.loads() method\n",
    "import json\n",
    "a ='''{\n",
    "    \"Name\": \"Mukesh kamaliya\",\n",
    "    \"Qualification\": \"MSC in data science\",\n",
    "    \"Stream\": \"Math & Data Science\"\n",
    "}'''\n",
    "print(a)\n",
    "\n",
    "b = json.loads(a)\n",
    "print(b)\n",
    "print(f'Type of my_details is {type(b)}')"
   ]
  },
  {
   "cell_type": "markdown",
   "id": "b4597c07",
   "metadata": {},
   "source": [
    "# 7. What function takes a Python data structure and returns a string of JSON data?"
   ]
  },
  {
   "cell_type": "code",
   "execution_count": null,
   "id": "7be6924e",
   "metadata": {},
   "outputs": [],
   "source": [
    "dumps() method takes a python data structure and returns a string of JSON data"
   ]
  },
  {
   "cell_type": "code",
   "execution_count": 8,
   "id": "a6941125",
   "metadata": {},
   "outputs": [
    {
     "name": "stdout",
     "output_type": "stream",
     "text": [
      "\"{\\n    \\\"Name\\\": \\\"Mukesh kamaliya\\\",\\n    \\\"Qualification\\\": \\\"MSC in data science\\\",\\n    \\\"Stream\\\": \\\"Math & Data Science\\\"\\n}\"\n",
      "Type of my_details_json is <class 'str'>\n"
     ]
    }
   ],
   "source": [
    "b = json.dumps(a, indent=4, sort_keys=True)\n",
    "print(b)\n",
    "print(f'Type of my_details_json is {type(b)}')"
   ]
  },
  {
   "cell_type": "code",
   "execution_count": null,
   "id": "64d172fd",
   "metadata": {},
   "outputs": [],
   "source": []
  }
 ],
 "metadata": {
  "kernelspec": {
   "display_name": "Python 3 (ipykernel)",
   "language": "python",
   "name": "python3"
  },
  "language_info": {
   "codemirror_mode": {
    "name": "ipython",
    "version": 3
   },
   "file_extension": ".py",
   "mimetype": "text/x-python",
   "name": "python",
   "nbconvert_exporter": "python",
   "pygments_lexer": "ipython3",
   "version": "3.9.7"
  }
 },
 "nbformat": 4,
 "nbformat_minor": 5
}
