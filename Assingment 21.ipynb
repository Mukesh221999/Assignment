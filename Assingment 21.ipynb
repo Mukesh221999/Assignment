{
 "cells": [
  {
   "cell_type": "markdown",
   "id": "bbd4098a",
   "metadata": {},
   "source": [
    "# 1. Add the current date to the text file today.txt as a string.\n"
   ]
  },
  {
   "cell_type": "code",
   "execution_count": 1,
   "id": "8e9fda19",
   "metadata": {},
   "outputs": [
    {
     "name": "stdout",
     "output_type": "stream",
     "text": [
      "05-12-2022\n"
     ]
    }
   ],
   "source": [
    "import datetime\n",
    "# Code to Add current date to the today.txt file\n",
    "file = open('today.txt','w')\n",
    "file.write(datetime.datetime.now().strftime(\"%d-%m-%Y\"))\n",
    "file.close()\n",
    "# Code to Read current date from today.txt file\n",
    "file = open('today.txt','r')\n",
    "print(file.read())\n",
    "file.close()"
   ]
  },
  {
   "cell_type": "markdown",
   "id": "70d93f42",
   "metadata": {},
   "source": [
    "# 2. Read the text file today.txt into the string today_string\n"
   ]
  },
  {
   "cell_type": "code",
   "execution_count": 2,
   "id": "8f66c423",
   "metadata": {},
   "outputs": [
    {
     "name": "stdout",
     "output_type": "stream",
     "text": [
      "05-12-2022\n"
     ]
    }
   ],
   "source": [
    "file = open('today.txt','r')\n",
    "today_string = file.read()\n",
    "print(today_string)\n"
   ]
  },
  {
   "cell_type": "markdown",
   "id": "ee3226e2",
   "metadata": {},
   "source": [
    "# 3. Parse the date from today_string.\n"
   ]
  },
  {
   "cell_type": "code",
   "execution_count": 3,
   "id": "b4d1bf15",
   "metadata": {},
   "outputs": [
    {
     "name": "stdout",
     "output_type": "stream",
     "text": [
      "2022-12-05 00:00:00\n"
     ]
    }
   ],
   "source": [
    "from datetime import datetime\n",
    "parsed_data = datetime.strptime(today_string, '%d-%m-%Y')\n",
    "print(parsed_data)\n"
   ]
  },
  {
   "cell_type": "markdown",
   "id": "64d8434f",
   "metadata": {},
   "source": [
    "# 4. List the files in your current directory\n"
   ]
  },
  {
   "cell_type": "code",
   "execution_count": null,
   "id": "2058cc30",
   "metadata": {},
   "outputs": [],
   "source": [
    "import os\n",
    "for folders, subfolders, files in os.walk(os.getcwd()):\n",
    "    for file in files:\n",
    "        print(file)"
   ]
  },
  {
   "cell_type": "markdown",
   "id": "91c8e424",
   "metadata": {},
   "source": [
    "# 5. Create a list of all of the files in your parent directory (minimum five files should be available).\n"
   ]
  },
  {
   "cell_type": "code",
   "execution_count": 5,
   "id": "ef30cf6a",
   "metadata": {},
   "outputs": [
    {
     "data": {
      "text/plain": [
       "['.conda',\n",
       " '.idlerc',\n",
       " '.ipynb_checkpoints',\n",
       " '.ipython',\n",
       " '.jupyter',\n",
       " '.matplotlib',\n",
       " '1.html',\n",
       " '123.txt',\n",
       " '123456.json',\n",
       " '15may string.ipynb',\n",
       " '16-3-2022.ipynb',\n",
       " '17-4-2022.ipynb',\n",
       " '17022022.ipynb',\n",
       " '18.1.1 data visualization Introduction-checkpoint.ipynb',\n",
       " '18.1.2 matplotlib boxplot-checkpoint.ipynb',\n",
       " '18.1.3 matplotlib area and scatter plot-checkpoint.ipynb',\n",
       " '18.1.4 matplotlib pi plot-checkpoint.ipynb',\n",
       " '18.1.5 matplotlib 3D plot-checkpoint.ipynb',\n",
       " '18.1.6 matplotlib styling-checkpoint.ipynb',\n",
       " '18422.ipynb',\n",
       " '2.html',\n",
       " '24-7-22 panda ineuron.ipynb',\n",
       " '3.html',\n",
       " '3D Objects',\n",
       " '5-4-22.ipynb',\n",
       " 'abc.wav',\n",
       " 'AgentLogingReport.csv',\n",
       " 'AgentPerformance.csv',\n",
       " 'ai exam final draft.ipynb',\n",
       " 'anaconda3',\n",
       " 'AppData',\n",
       " 'Application Data',\n",
       " 'application_log.txt',\n",
       " 'assignment 1.ipynb',\n",
       " 'Assignment 2.ipynb',\n",
       " 'assignment 3.ipynb',\n",
       " 'assignment 4.ipynb',\n",
       " 'Assignment 5.ipynb',\n",
       " 'Assignment 6.ipynb',\n",
       " 'Assignment 7.ipynb',\n",
       " 'Assignment 8.ipynb',\n",
       " 'Assingment 10.ipynb',\n",
       " 'Assingment 11.ipynb',\n",
       " 'Assingment 12.ipynb',\n",
       " 'Assingment 13.ipynb',\n",
       " 'Assingment 14.ipynb',\n",
       " 'Assingment 15.ipynb',\n",
       " 'Assingment 16.ipynb',\n",
       " 'Assingment 17.ipynb',\n",
       " 'Assingment 18.ipynb',\n",
       " 'Assingment 19.ipynb',\n",
       " 'Assingment 20.ipynb',\n",
       " 'Assingment 21.ipynb',\n",
       " 'assingment 9.ipynb',\n",
       " 'books.csv',\n",
       " 'books.db',\n",
       " 'books1.db',\n",
       " 'Contacts',\n",
       " 'Cookies',\n",
       " 'data fsds',\n",
       " 'Desktop',\n",
       " 'Documents',\n",
       " 'Downloads',\n",
       " 'dt.ipynb',\n",
       " 'dv practis.ipynb',\n",
       " 'EDA 1.ipynb',\n",
       " 'EDA.ipynb',\n",
       " 'family tree.pl',\n",
       " 'family tree.pl~',\n",
       " 'Favorites',\n",
       " 'FitBit_data.csv',\n",
       " 'for loop.ipynb',\n",
       " 'height.csv',\n",
       " 'IntelGraphicsProfiles',\n",
       " 'iterator generator ,map ,reduce , filter , basic file opretion.ipynb',\n",
       " 'juypeter notebook cretad by sir',\n",
       " 'linear ridgr lasso and elatic regression.ipynb',\n",
       " 'Links',\n",
       " 'list ,tuples , dict , set.ipynb',\n",
       " 'Local Settings',\n",
       " 'MicrosoftEdgeBackups',\n",
       " 'Music',\n",
       " 'My Documents',\n",
       " 'NetHood',\n",
       " 'ntpel numpay 20022022.ipynb',\n",
       " 'NTUSER.DAT',\n",
       " 'ntuser.dat.LOG1',\n",
       " 'ntuser.dat.LOG2',\n",
       " 'NTUSER.DAT{1f89b1de-8ece-11ec-97d3-3c07715f5a64}.TM.blf',\n",
       " 'NTUSER.DAT{1f89b1de-8ece-11ec-97d3-3c07715f5a64}.TMContainer00000000000000000001.regtrans-ms',\n",
       " 'NTUSER.DAT{1f89b1de-8ece-11ec-97d3-3c07715f5a64}.TMContainer00000000000000000002.regtrans-ms',\n",
       " 'ntuser.ini',\n",
       " 'numpy class 1 81322.ipynb',\n",
       " 'OneDrive',\n",
       " 'pandas 2nd class 29_7_30.ipynb',\n",
       " 'pandas class 3 30 7 2022.ipynb',\n",
       " 'Pictures',\n",
       " 'Postman',\n",
       " 'practical 2 nlp speech to text.py',\n",
       " 'PrintHood',\n",
       " 'Programing Assingment 11.ipynb',\n",
       " 'PycharmProjects',\n",
       " 'pythonproject1.ipynb',\n",
       " 'Recent',\n",
       " 'sales_data_final.csv',\n",
       " 'SampleFile.bak',\n",
       " 'SampleFile.dat',\n",
       " 'SampleFile.dir',\n",
       " 'Saved Games',\n",
       " 'seaborn-data',\n",
       " 'Searches',\n",
       " 'SendTo',\n",
       " 'Start Menu',\n",
       " 'Superstore_USA.xlsx',\n",
       " 'task 5.ipynb',\n",
       " 'task no 1.ipynb',\n",
       " 'task no 3.ipynb',\n",
       " 'task7.ipynb',\n",
       " 'task7_1.json',\n",
       " 'task7_2.json',\n",
       " 'Templates',\n",
       " 'test.mukesh',\n",
       " 'test.txt',\n",
       " 'test1.txt',\n",
       " 'test123.json',\n",
       " 'test2.txt',\n",
       " 'test5.text',\n",
       " 'text.txt',\n",
       " 'today.txt',\n",
       " 'university_records.csv',\n",
       " 'Untitled.ipynb',\n",
       " 'Untitled1.ipynb',\n",
       " 'Untitled10.ipynb',\n",
       " 'Untitled11.ipynb',\n",
       " 'Untitled12.ipynb',\n",
       " 'Untitled13.ipynb',\n",
       " 'Untitled14.ipynb',\n",
       " 'Untitled15.ipynb',\n",
       " 'Untitled16.ipynb',\n",
       " 'Untitled17.ipynb',\n",
       " 'Untitled18.ipynb',\n",
       " 'Untitled19.ipynb',\n",
       " 'Untitled2.ipynb',\n",
       " 'Untitled3.ipynb',\n",
       " 'Untitled4.ipynb',\n",
       " 'Untitled5.ipynb',\n",
       " 'Untitled6.ipynb',\n",
       " 'Untitled7.ipynb',\n",
       " 'Untitled8.ipynb',\n",
       " 'Untitled9.ipynb',\n",
       " 'Videos',\n",
       " 'zoo.ipynb']"
      ]
     },
     "execution_count": 5,
     "metadata": {},
     "output_type": "execute_result"
    }
   ],
   "source": [
    "import os \n",
    "os.listdir()\n"
   ]
  },
  {
   "cell_type": "markdown",
   "id": "5dbcc84d",
   "metadata": {},
   "source": [
    "# 6. Use multiprocessing to create three separate processes. Make each one wait a random number of seconds between one and five, print the current time, and then exit.\n"
   ]
  },
  {
   "cell_type": "code",
   "execution_count": 7,
   "id": "49ec173c",
   "metadata": {},
   "outputs": [],
   "source": [
    "import multiprocessing\n",
    "import time \n",
    "import random\n",
    "import datetime\n",
    "\n",
    "def procOne():\n",
    "    print(f'Proc_one_Starttime -> {datetime.datetime.now()}')\n",
    "    time.sleep(random.randint(1,5))\n",
    "    print(f'Proc_one_Endtime -> {datetime.datetime.now()}')\n",
    "    \n",
    "def procTwo():\n",
    "    print(f'Proc_two_Starttime -> {datetime.datetime.now()}')\n",
    "    time.sleep(random.randint(1,5))\n",
    "    print(f'Proc_two_Endtime -> {datetime.datetime.now()}')\n",
    "\n",
    "def procThree():\n",
    "    print(f'Proc_two_Starttime -> {datetime.datetime.now()}')\n",
    "    time.sleep(random.randint(1,5))\n",
    "    print(f'Proc_two_Endtime -> {datetime.datetime.now()}')\n",
    "    \n",
    "if __name__ == \"__main__\":    \n",
    "    p1 = multiprocessing.Process(target=procOne)\n",
    "    p2 = multiprocessing.Process(target=procTwo)\n",
    "    p3 = multiprocessing.Process(target=procThree)\n",
    "\n",
    "    p1.start()\n",
    "    p2.start()\n",
    "    p3.start()\n",
    "\n",
    "    p1.join()\n",
    "    p2.join()\n",
    "    p3.join()\n"
   ]
  },
  {
   "cell_type": "markdown",
   "id": "a8040533",
   "metadata": {},
   "source": [
    "# 7. Create a date object of your day of birth.\n"
   ]
  },
  {
   "cell_type": "code",
   "execution_count": 8,
   "id": "944c9af7",
   "metadata": {},
   "outputs": [
    {
     "name": "stdout",
     "output_type": "stream",
     "text": [
      "1999-02-02 00:00:00 <class 'datetime.datetime'>\n"
     ]
    }
   ],
   "source": [
    "from datetime import datetime\n",
    "my_dob = datetime.strptime('02/02/1999','%d/%m/%Y')\n",
    "print(my_dob, type(my_dob))\n"
   ]
  },
  {
   "cell_type": "markdown",
   "id": "591aa0ba",
   "metadata": {},
   "source": [
    "# 8. What day of the week was your day of birth?\n"
   ]
  },
  {
   "cell_type": "code",
   "execution_count": 9,
   "id": "43722b1c",
   "metadata": {},
   "outputs": [
    {
     "data": {
      "text/plain": [
       "'Tuesday'"
      ]
     },
     "execution_count": 9,
     "metadata": {},
     "output_type": "execute_result"
    }
   ],
   "source": [
    "from datetime import datetime\n",
    "my_dob = datetime(1999,2,2)\n",
    "my_dob.strftime(\"%A\")\n"
   ]
  },
  {
   "cell_type": "markdown",
   "id": "bdcc1e2a",
   "metadata": {},
   "source": [
    "# 9. When will you be (or when were you) 10,000 days old?"
   ]
  },
  {
   "cell_type": "code",
   "execution_count": 11,
   "id": "06e81c75",
   "metadata": {},
   "outputs": [
    {
     "data": {
      "text/plain": [
       "datetime.datetime(1971, 9, 17, 0, 0)"
      ]
     },
     "execution_count": 11,
     "metadata": {},
     "output_type": "execute_result"
    }
   ],
   "source": [
    "from datetime import datetime, timedelta\n",
    "my_dob = datetime.strptime(\"02/02/1999\",'%d/%m/%Y')\n",
    "future_date = my_dob-timedelta(10000)\n",
    "future_date\n"
   ]
  },
  {
   "cell_type": "code",
   "execution_count": null,
   "id": "6a9c4240",
   "metadata": {},
   "outputs": [],
   "source": []
  }
 ],
 "metadata": {
  "kernelspec": {
   "display_name": "Python 3 (ipykernel)",
   "language": "python",
   "name": "python3"
  },
  "language_info": {
   "codemirror_mode": {
    "name": "ipython",
    "version": 3
   },
   "file_extension": ".py",
   "mimetype": "text/x-python",
   "name": "python",
   "nbconvert_exporter": "python",
   "pygments_lexer": "ipython3",
   "version": "3.9.7"
  }
 },
 "nbformat": 4,
 "nbformat_minor": 5
}
