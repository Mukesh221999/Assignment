{
 "cells": [
  {
   "cell_type": "markdown",
   "id": "15bab964",
   "metadata": {},
   "source": [
    "# 1. To what does a relative path refer?\n"
   ]
  },
  {
   "cell_type": "markdown",
   "id": "ae7debcd",
   "metadata": {},
   "source": [
    "The relative path is the path to some file with respect to your current working directory (PWD).\n",
    "\n",
    "For example: if absolute path to a file called stuff.txt is: C:/users/admin/docs/iNeuron.txt If my PWD is C:/users/admin/ , then the relative path to iNeuron.txt would be: docs/iNeuron.txt\n",
    "Note: PWD + relative path = absolute path"
   ]
  },
  {
   "cell_type": "markdown",
   "id": "02a45254",
   "metadata": {},
   "source": [
    "# 2. What does an absolute path start with your operating system?\n"
   ]
  },
  {
   "cell_type": "markdown",
   "id": "d34d96b9",
   "metadata": {},
   "source": [
    "In Linux based Operating systems the absolute path starts with / where as in Windows based Operating systems absolute path starts with C:"
   ]
  },
  {
   "cell_type": "markdown",
   "id": "39f9ec35",
   "metadata": {},
   "source": [
    "# 3. What do the functions os.getcwd() and os.chdir() do?\n"
   ]
  },
  {
   "cell_type": "markdown",
   "id": "5297db9e",
   "metadata": {},
   "source": [
    "os.getcwd() method tells us the location of current working directory (CWD) \n",
    "whereas os.chdir() method in Python used to change the current working directory to specified path.\n",
    "These functions are similar to linux commands pwd and cd"
   ]
  },
  {
   "cell_type": "markdown",
   "id": "13b739ba",
   "metadata": {},
   "source": [
    "# 4. What are the . and .. folders?\n"
   ]
  },
  {
   "cell_type": "code",
   "execution_count": null,
   "id": "d1a99f75",
   "metadata": {},
   "outputs": [],
   "source": [
    ". Represents the Current Directory Whereas \n",
    ".. Represents the Parent Directory of the Current Directory"
   ]
  },
  {
   "cell_type": "markdown",
   "id": "0e6b2f19",
   "metadata": {},
   "source": [
    "# 5. In C:\\bacon\\eggs\\spam.txt, which part is the dir name, and which part is the base name?\n"
   ]
  },
  {
   "cell_type": "markdown",
   "id": "0c24e934",
   "metadata": {},
   "source": [
    "For C:\\bacon\\eggs\\spam.txt\n",
    "The Directory name is C:\\\\bacon\\\\eggs\n",
    "The Base name is spam.txt"
   ]
  },
  {
   "cell_type": "markdown",
   "id": "3e55a297",
   "metadata": {},
   "source": [
    "# 6. What are the three “mode” arguments that can be passed to the open() function?\n"
   ]
  },
  {
   "cell_type": "markdown",
   "id": "2e19c492",
   "metadata": {},
   "source": [
    "a file can be accessed in python using open() function. open function takes two arguments filename and mode of operation (optional). if mode is not provided, the default mode of opening is Read mode.\n",
    "syntax : open(filename, mode)\n",
    "\n",
    "1.‘r’ – Read Mode: This is the default mode for open(). The file is opened and a pointer is positioned at the beginning of the    file’s content.\n",
    "2.‘w’ – Write Mode: Using this mode will overwrite any existing content in a file. If the given file does not exist, a new one    will be created.\n",
    "3.‘r+’ – Read/Write Mode: Use this mode if you need to simultaneously read and write to a file.\n",
    "4.‘a’ – Append Mode: With this mode the user can append the data without overwriting any already existing data in the file.\n",
    "5.‘a+’ – Append and Read Mode: In this mode you can read and append the data without overwriting the original file.\n",
    "6.‘x’ – Exclusive Creating Mode: This mode is for the sole purpose of creating new files. Use this mode if you know the file to    be written doesn’t exist beforehand."
   ]
  },
  {
   "cell_type": "markdown",
   "id": "78f19a62",
   "metadata": {},
   "source": [
    "# 7. What happens if an existing file is opened in write mode? resemble?"
   ]
  },
  {
   "cell_type": "markdown",
   "id": "d5ff1222",
   "metadata": {},
   "source": [
    "Using this mode, we can overwrite any existing content in a file. If the given file does not exist then a new one will be created."
   ]
  },
  {
   "cell_type": "markdown",
   "id": "e4467396",
   "metadata": {},
   "source": [
    "# 8. How do you tell the difference between read() and readlines()?\n"
   ]
  },
  {
   "cell_type": "markdown",
   "id": "5f0b72f4",
   "metadata": {},
   "source": [
    "The main difference is that read() will read the whole file at once and then print out the first characters that take up as many bytes as we specify in the parenthesis\n",
    "\n",
    "whereas the readline() that will read and print out only the first characters that take up as many bytes as we specify in the parenthesis. We may want to use readline() when we are reading files that are too big for our RAM.\n",
    "\n",
    "The read() would treat each character in the file separately, meaning that the iteration would happen for every character.\n",
    "\n",
    "The readline() function, on the other hand, only reads a single line of the file. This means that if the first line of the file were three lines long, the readline() function would only parse (or iterate/operate) on the first line of the file."
   ]
  },
  {
   "cell_type": "markdown",
   "id": "a1c444a9",
   "metadata": {},
   "source": [
    "# 9. What data structure does a shelf value resemble?"
   ]
  },
  {
   "cell_type": "markdown",
   "id": "0d91b632",
   "metadata": {},
   "source": [
    "A shelf value resembles a dictionary value; it has keys and values, along with keys() and values() methods that work similarly to the dictionary methods of the same names"
   ]
  },
  {
   "cell_type": "code",
   "execution_count": 5,
   "id": "e5ce7636",
   "metadata": {},
   "outputs": [
    {
     "name": "stdout",
     "output_type": "stream",
     "text": [
      "A Shelve file with SampleFile name is successfully created\n",
      "All entries are successfully made inside the sample shelve file\n"
     ]
    }
   ],
   "source": [
    "import shelve  \n",
    "    # Creating a shelve file with open() function  \n",
    "shelveVariable = shelve.open(\"SampleFile\")  \n",
    "print(\"A Shelve file with SampleFile name is successfully created\")  \n",
    "    # Making entries inside the shelve file  \n",
    "shelveVariable['Employee Name'] = 'Jackie Chan'  \n",
    "shelveVariable['Employee Age'] = 27  \n",
    "shelveVariable['Employee department'] = 'Management'  \n",
    "shelveVariable['Employee Performance'] = 'Excellent'  \n",
    "shelveVariable['Employee Score'] = 9.2  \n",
    "shelveVariable.close()  \n",
    "print(\"All entries are successfully made inside the sample shelve file\")  "
   ]
  },
  {
   "cell_type": "code",
   "execution_count": 7,
   "id": "893c27d7",
   "metadata": {},
   "outputs": [
    {
     "name": "stdout",
     "output_type": "stream",
     "text": [
      "<shelve.DbfilenameShelf object at 0x000001E356B86910>\n"
     ]
    }
   ],
   "source": []
  },
  {
   "cell_type": "code",
   "execution_count": null,
   "id": "eedf312b",
   "metadata": {},
   "outputs": [],
   "source": []
  }
 ],
 "metadata": {
  "kernelspec": {
   "display_name": "Python 3 (ipykernel)",
   "language": "python",
   "name": "python3"
  },
  "language_info": {
   "codemirror_mode": {
    "name": "ipython",
    "version": 3
   },
   "file_extension": ".py",
   "mimetype": "text/x-python",
   "name": "python",
   "nbconvert_exporter": "python",
   "pygments_lexer": "ipython3",
   "version": "3.9.7"
  }
 },
 "nbformat": 4,
 "nbformat_minor": 5
}
