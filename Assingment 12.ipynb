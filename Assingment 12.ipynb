{
 "cells": [
  {
   "cell_type": "markdown",
   "id": "65d0c172",
   "metadata": {},
   "source": [
    "# 1. In what modes should the PdfFileReader() and PdfFileWriter() File objects will be opened?\n"
   ]
  },
  {
   "cell_type": "markdown",
   "id": "bb656b25",
   "metadata": {},
   "source": [
    "For PdfFileReader() file objects WILL be opened in rb -> read binary mode, Whereas for PdfFileWriter() file objects WILL be opened in wb -> write binary mode."
   ]
  },
  {
   "cell_type": "markdown",
   "id": "d8f451c6",
   "metadata": {},
   "source": [
    "# 2. From a PdfFileReader object, how do you get a Page object for page 5?\n"
   ]
  },
  {
   "cell_type": "code",
   "execution_count": null,
   "id": "5920316e",
   "metadata": {},
   "outputs": [],
   "source": [
    "PdfFileReader class provides a method called getPage(page_no) to get a page object."
   ]
  },
  {
   "cell_type": "code",
   "execution_count": null,
   "id": "a3665296",
   "metadata": {},
   "outputs": [],
   "source": [
    "!pip install pyPDF2\n",
    "# Example Code:\n",
    "from PyPDF2 import PdfFileReader\n",
    "pdf_reader = PdfFileReader(file_path)\n",
    "for page in pdf_reader.getNumPages():\n",
    "    pdf_reader.getPage(page)"
   ]
  },
  {
   "cell_type": "markdown",
   "id": "c32aed2f",
   "metadata": {},
   "source": [
    "# 3. What PdfFileReader variable stores the number of pages in the PDF document?\n"
   ]
  },
  {
   "cell_type": "code",
   "execution_count": null,
   "id": "9985fed0",
   "metadata": {},
   "outputs": [],
   "source": [
    "getNumPages() method of PdfFileReader class stores the no pages in a PDF document"
   ]
  },
  {
   "cell_type": "markdown",
   "id": "eb6c3959",
   "metadata": {},
   "source": [
    "# 4. If a PdfFileReader object’s PDF is encrypted with the password swordfish, what must you do before you can obtain Page objects from it?\n"
   ]
  },
  {
   "cell_type": "markdown",
   "id": "2bac8818",
   "metadata": {},
   "source": [
    "If a PdfFileReader object’s PDF is encrypted with the password swordfish and we are not aware of it, we will first read the Pdf using the PdfFileReader Class. PdfFileReader class provides a attribute called isEncrypted to check whether a pdf is encrypted or not. The method returns true if a pdf is encrypted and vice versa.\n",
    "If pdf is encrypted we will use the decrypt() method provided by PdfFileReader class and then we will try to read the contents/pages of the pdf, else PyPDF2 will raise the following error PyPDF2.utils.PdfReadError: file has not been decrypted"
   ]
  },
  {
   "cell_type": "code",
   "execution_count": null,
   "id": "007ed724",
   "metadata": {},
   "outputs": [],
   "source": [
    "#Example Code:\n",
    "from PyPDF2 import PdfFileReader\n",
    "pdf_reader = PdfFileReader(file_path)\n",
    "if pdf_reader.isEncrypted: # to check whether the pdf is encrypted or not\n",
    "    pdf_reader.decrypt(\"swordfish\")\n",
    "for page in pdf_reader.pages:\n",
    "    print(page.extractText()) # to print the text data of a page from pdf"
   ]
  },
  {
   "cell_type": "markdown",
   "id": "5fdb92ba",
   "metadata": {},
   "source": [
    "# 5. What methods do you use to rotate a page?\n"
   ]
  },
  {
   "cell_type": "markdown",
   "id": "93969c98",
   "metadata": {},
   "source": [
    "PyPDF2 Package provides 2 methods to rotate a page:\n",
    "\n",
    "1.rotateClockWise() -> For Clockwise rotation\n",
    "2.rotateCounterClockWise() -> For Counter Clockwise rotation"
   ]
  },
  {
   "cell_type": "markdown",
   "id": "000ec81b",
   "metadata": {},
   "source": [
    "# 6. What is the difference between a Run object and a Paragraph object?\n"
   ]
  },
  {
   "cell_type": "markdown",
   "id": "44caca1e",
   "metadata": {},
   "source": [
    "The structure of a document is represented by three different data types in python-Docx. At the highest level, a Document object represents the entire document. The Document object contains a list of Paragraph objects for the paragraphs in the document. (A new paragraph begins whenever the user presses ENTER or RETURN while typing in a Word document.) Each of these Paragraph objects contains a list of one or more Run objects.\n",
    "\n",
    "The text in a Word document is more than just a string. It has font, size, color, and other styling information associated with it. A style in Word is a collection of these attributes. A Run object is a contiguous run of text with the same style. A new Run object is needed whenever the text style changes."
   ]
  },
  {
   "cell_type": "markdown",
   "id": "59f0c015",
   "metadata": {},
   "source": [
    "# 7. How do you obtain a list of Paragraph objects for a Document object that’s stored in a variable named doc?\n"
   ]
  },
  {
   "cell_type": "code",
   "execution_count": 5,
   "id": "65571fc2",
   "metadata": {},
   "outputs": [
    {
     "name": "stdout",
     "output_type": "stream",
     "text": [
      "Requirement already satisfied: docx in c:\\users\\sony\\anaconda3\\lib\\site-packages (0.2.4)"
     ]
    },
    {
     "name": "stderr",
     "output_type": "stream",
     "text": [
      "WARNING: Ignoring invalid distribution -tatsmodels (c:\\users\\sony\\anaconda3\\lib\\site-packages)\n",
      "WARNING: Ignoring invalid distribution -tatsmodels (c:\\users\\sony\\anaconda3\\lib\\site-packages)\n",
      "WARNING: Ignoring invalid distribution -tatsmodels (c:\\users\\sony\\anaconda3\\lib\\site-packages)\n",
      "WARNING: Ignoring invalid distribution -tatsmodels (c:\\users\\sony\\anaconda3\\lib\\site-packages)\n",
      "WARNING: Ignoring invalid distribution -tatsmodels (c:\\users\\sony\\anaconda3\\lib\\site-packages)\n",
      "WARNING: Ignoring invalid distribution -tatsmodels (c:\\users\\sony\\anaconda3\\lib\\site-packages)\n"
     ]
    },
    {
     "name": "stdout",
     "output_type": "stream",
     "text": [
      "\n",
      "Requirement already satisfied: Pillow>=2.0 in c:\\users\\sony\\anaconda3\\lib\\site-packages (from docx) (8.4.0)\n",
      "Requirement already satisfied: lxml in c:\\users\\sony\\anaconda3\\lib\\site-packages (from docx) (4.6.3)\n"
     ]
    }
   ],
   "source": [
    "!pip install docx"
   ]
  },
  {
   "cell_type": "code",
   "execution_count": 3,
   "id": "cf8f7f0d",
   "metadata": {},
   "outputs": [],
   "source": [
    "Example Program\n",
    "from docx import Document\n",
    "doc = Document(\"sample_file.docx\") # Path of the Docx file\n",
    "print(doc.paragraphs) # Prints the list of Paragraph objects for a Document\n",
    "for paragraph in doc.paragraphs:\n",
    "    print(paragraph.text) # Prints the text in the paragraph"
   ]
  },
  {
   "cell_type": "markdown",
   "id": "e31ce1a4",
   "metadata": {},
   "source": [
    "\n",
    "# 8. What type of object has bold, underline, italic, strike, and outline variables?\n"
   ]
  },
  {
   "cell_type": "markdown",
   "id": "43fab4e8",
   "metadata": {},
   "source": [
    "Run object has bold, underline, italic, strike, and outline variables. The text in a Word document is more than just a string. It has font, size, color, and other styling information associated with it."
   ]
  },
  {
   "cell_type": "markdown",
   "id": "6dc5a9dd",
   "metadata": {},
   "source": [
    "# 9. What is the difference between False, True, and None for the bold variable?\n"
   ]
  },
  {
   "cell_type": "code",
   "execution_count": null,
   "id": "050b5b3e",
   "metadata": {},
   "outputs": [],
   "source": [
    "bold = True  # Style Set to Bold\n",
    "bold = False # Style Not Set to Bold\n",
    "bold = None # Style is Not Applicable"
   ]
  },
  {
   "cell_type": "markdown",
   "id": "c50c9ed9",
   "metadata": {},
   "source": [
    "# 10. How do you create a Document object for a new Word document?\n"
   ]
  },
  {
   "cell_type": "code",
   "execution_count": null,
   "id": "2cf6bd05",
   "metadata": {},
   "outputs": [],
   "source": [
    "\n",
    "# Example Program\n",
    "from docx import Document\n",
    "document = Document()\n",
    "document.add_paragraph(\"iNeuron Full Stack DataScience Course is best\")\n",
    "document.save('mydocument.docx')"
   ]
  },
  {
   "cell_type": "markdown",
   "id": "97242487",
   "metadata": {},
   "source": [
    "# 11. How do you add a paragraph with the text &#39;Hello, there!&#39; to a Document object stored in avariable named doc?\n"
   ]
  },
  {
   "cell_type": "code",
   "execution_count": null,
   "id": "d019e73e",
   "metadata": {},
   "outputs": [],
   "source": [
    "from docx import Document\n",
    "doc = Document()\n",
    "doc.add_paragraph('Hello, there!')\n",
    "doc.save('hello.docx')"
   ]
  },
  {
   "cell_type": "markdown",
   "id": "a8443ede",
   "metadata": {},
   "source": [
    "# 12. What integers represent the levels of headings available in Word documents?"
   ]
  },
  {
   "cell_type": "markdown",
   "id": "e8838952",
   "metadata": {},
   "source": [
    "The levels for a heading in a word document can be specified by using the level attribute inside the add_heading method. There are a total of 5 levels statring for 0 to 4. where level 0 makes a headline with the horizontal line below the text, whereas the heading level 1 is the main heading. Similarly, the other headings are sub-heading with their's font-sizes in decreasing order."
   ]
  }
 ],
 "metadata": {
  "kernelspec": {
   "display_name": "Python 3 (ipykernel)",
   "language": "python",
   "name": "python3"
  },
  "language_info": {
   "codemirror_mode": {
    "name": "ipython",
    "version": 3
   },
   "file_extension": ".py",
   "mimetype": "text/x-python",
   "name": "python",
   "nbconvert_exporter": "python",
   "pygments_lexer": "ipython3",
   "version": "3.9.7"
  }
 },
 "nbformat": 4,
 "nbformat_minor": 5
}
