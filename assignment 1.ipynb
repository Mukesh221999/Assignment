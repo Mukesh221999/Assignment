{
 "cells": [
  {
   "cell_type": "markdown",
   "id": "db68bb62",
   "metadata": {},
   "source": [
    "# 1. In the below elements which of them are values or an expression?"
   ]
  },
  {
   "cell_type": "code",
   "execution_count": null,
   "id": "1e222110",
   "metadata": {},
   "outputs": [],
   "source": [
    "values\n",
    "'hello'\n",
    "-87.8\n",
    "6\n",
    "expression\n",
    "*\n",
    "-\n",
    "/\n",
    "+"
   ]
  },
  {
   "cell_type": "markdown",
   "id": "371cc67e",
   "metadata": {},
   "source": [
    "# 2.What is the difference between string and variable?"
   ]
  },
  {
   "cell_type": "raw",
   "id": "59c2caf5",
   "metadata": {},
   "source": [
    "string = string is data type and it inclosed with in \" \" , ' ' quotes .if you write anything inside quotes (single or double) that called as string\n",
    "ex . \"mukesh kamaliya\" \n",
    "variable = is an identifier or where you can save data for some time (in side ram) to use it again ex. a = 10 , b =20 then you can do a+b =>30\n",
    " "
   ]
  },
  {
   "cell_type": "markdown",
   "id": "06bbf588",
   "metadata": {},
   "source": [
    "# 3.Describe three different data types."
   ]
  },
  {
   "cell_type": "code",
   "execution_count": null,
   "id": "b60403fc",
   "metadata": {},
   "outputs": [],
   "source": [
    "string = all alphanumeric data in side single or double qoutes(\" \" ,' ') ex-\"mukesh\" , \"123m\" ,'1'\n",
    "integer = whole number ex - 1,2,3,4,5\n",
    "float( floting point) = number with decimal point ex-12.345,123.1,0.0003\n"
   ]
  },
  {
   "cell_type": "markdown",
   "id": "33a1482d",
   "metadata": {},
   "source": [
    "# 4.What is an expression made up of? What do all expressions do?"
   ]
  },
  {
   "cell_type": "code",
   "execution_count": null,
   "id": "d2952a7e",
   "metadata": {},
   "outputs": [],
   "source": [
    "Expression is made up of values, containers, and mathematical operators\n",
    "ex- 10 + 5 \n",
    "it will return 15\n",
    "arathmetic expression"
   ]
  },
  {
   "cell_type": "markdown",
   "id": "be00bf1f",
   "metadata": {},
   "source": [
    "# 5.This assignment statements, like spam = 10. What is the difference between an expression and a statement?"
   ]
  },
  {
   "cell_type": "code",
   "execution_count": null,
   "id": "a5a087d5",
   "metadata": {},
   "outputs": [],
   "source": [
    "expression is a combination of values and functions that are combined and interpreted by the compiler to create a new value\n",
    "ex- x=5 ,y=5 => x+y => 10 \n",
    "instruction that a python interpreter can execute is called a Statement\n",
    "ex- x=5 => print(x) => 5 \n",
    "spam=10 in this spam is variabal name print(spam) this is statement and (spam+spam)  this is expression "
   ]
  },
  {
   "cell_type": "markdown",
   "id": "ffde4509",
   "metadata": {},
   "source": [
    "# 6.After running the following code, what does the variable bacon contain?"
   ]
  },
  {
   "cell_type": "code",
   "execution_count": 1,
   "id": "7d4cf700",
   "metadata": {},
   "outputs": [],
   "source": [
    "bacon = 22"
   ]
  },
  {
   "cell_type": "code",
   "execution_count": 2,
   "id": "06d06484",
   "metadata": {},
   "outputs": [
    {
     "data": {
      "text/plain": [
       "23"
      ]
     },
     "execution_count": 2,
     "metadata": {},
     "output_type": "execute_result"
    }
   ],
   "source": [
    "bacon + 1"
   ]
  },
  {
   "cell_type": "code",
   "execution_count": 4,
   "id": "58f6753a",
   "metadata": {},
   "outputs": [
    {
     "data": {
      "text/plain": [
       "22"
      ]
     },
     "execution_count": 4,
     "metadata": {},
     "output_type": "execute_result"
    }
   ],
   "source": [
    "bacon # bacon contain by defult values which we give it early ear "
   ]
  },
  {
   "cell_type": "markdown",
   "id": "8734cac3",
   "metadata": {},
   "source": [
    "# 7. What should the values of the following two terms be?"
   ]
  },
  {
   "cell_type": "code",
   "execution_count": 5,
   "id": "e3220c9e",
   "metadata": {},
   "outputs": [
    {
     "data": {
      "text/plain": [
       "'spamspamspam'"
      ]
     },
     "execution_count": 5,
     "metadata": {},
     "output_type": "execute_result"
    }
   ],
   "source": [
    "'spam' + 'spamspam'"
   ]
  },
  {
   "cell_type": "code",
   "execution_count": 6,
   "id": "99140fe1",
   "metadata": {},
   "outputs": [
    {
     "data": {
      "text/plain": [
       "'spamspamspam'"
      ]
     },
     "execution_count": 6,
     "metadata": {},
     "output_type": "execute_result"
    }
   ],
   "source": [
    "'spam' * 3"
   ]
  },
  {
   "cell_type": "markdown",
   "id": "4570deea",
   "metadata": {},
   "source": [
    "# 8. Why is eggs a valid variable name while 100 is invalid?"
   ]
  },
  {
   "cell_type": "code",
   "execution_count": null,
   "id": "65e336ad",
   "metadata": {},
   "outputs": [],
   "source": [
    "because we can't start giving variable an integer name\n",
    "you can start with alphabet then you can use number like m100 or eggs100\n"
   ]
  },
  {
   "cell_type": "markdown",
   "id": "d3c1b192",
   "metadata": {},
   "source": [
    "# 9. What three functions can be used to get the integer, floating-point number, or string version of a value?"
   ]
  },
  {
   "cell_type": "code",
   "execution_count": 7,
   "id": "28f856b9",
   "metadata": {},
   "outputs": [
    {
     "data": {
      "text/plain": [
       "('', 0, 0.0)"
      ]
     },
     "execution_count": 7,
     "metadata": {},
     "output_type": "execute_result"
    }
   ],
   "source": [
    "str() , int() , float()"
   ]
  },
  {
   "cell_type": "markdown",
   "id": "8cca1930",
   "metadata": {},
   "source": [
    "# 10. Why does this expression cause an error? How can you fix it?"
   ]
  },
  {
   "cell_type": "code",
   "execution_count": 8,
   "id": "11473f9d",
   "metadata": {},
   "outputs": [
    {
     "ename": "TypeError",
     "evalue": "can only concatenate str (not \"int\") to str",
     "output_type": "error",
     "traceback": [
      "\u001b[1;31m---------------------------------------------------------------------------\u001b[0m",
      "\u001b[1;31mTypeError\u001b[0m                                 Traceback (most recent call last)",
      "\u001b[1;32m~\\AppData\\Local\\Temp/ipykernel_6188/1804848508.py\u001b[0m in \u001b[0;36m<module>\u001b[1;34m\u001b[0m\n\u001b[1;32m----> 1\u001b[1;33m \u001b[1;34m'I have eaten'\u001b[0m \u001b[1;33m+\u001b[0m \u001b[1;36m99\u001b[0m \u001b[1;33m+\u001b[0m \u001b[1;34m'burritos'\u001b[0m\u001b[1;33m\u001b[0m\u001b[1;33m\u001b[0m\u001b[0m\n\u001b[0m",
      "\u001b[1;31mTypeError\u001b[0m: can only concatenate str (not \"int\") to str"
     ]
    }
   ],
   "source": [
    "'I have eaten' + 99 + 'burritos' #because 99 is integer and other is string"
   ]
  },
  {
   "cell_type": "code",
   "execution_count": 9,
   "id": "e1f04c9d",
   "metadata": {},
   "outputs": [
    {
     "data": {
      "text/plain": [
       "'I have eaten99burritos'"
      ]
     },
     "execution_count": 9,
     "metadata": {},
     "output_type": "execute_result"
    }
   ],
   "source": [
    "# for fixt it you have to do type casting\n",
    "'I have eaten' + str(99) + 'burritos'"
   ]
  },
  {
   "cell_type": "code",
   "execution_count": null,
   "id": "5a3e1a97",
   "metadata": {},
   "outputs": [],
   "source": []
  }
 ],
 "metadata": {
  "kernelspec": {
   "display_name": "Python 3 (ipykernel)",
   "language": "python",
   "name": "python3"
  },
  "language_info": {
   "codemirror_mode": {
    "name": "ipython",
    "version": 3
   },
   "file_extension": ".py",
   "mimetype": "text/x-python",
   "name": "python",
   "nbconvert_exporter": "python",
   "pygments_lexer": "ipython3",
   "version": "3.9.7"
  }
 },
 "nbformat": 4,
 "nbformat_minor": 5
}
